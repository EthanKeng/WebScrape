{
 "cells": [
  {
   "cell_type": "code",
   "execution_count": 5,
   "metadata": {},
   "outputs": [],
   "source": [
    "import csv\n",
    "d = {\"key1\": [1,2,3], \"key2\": [4,5,6], \"key3\": []}\n",
    "with open(\"test.csv\", \"w\") as outfile:\n",
    "   writer = csv.writer(outfile)\n",
    "   writer.writerow(d.keys())\n",
    "   writer.writerows(zip(*d.values()))"
   ]
  },
  {
   "cell_type": "code",
   "execution_count": 3,
   "metadata": {},
   "outputs": [
    {
     "name": "stdout",
     "output_type": "stream",
     "text": [
      "['https://www.amazon.co.jp/s?k=youtuber+%E6%92%AE%E5%BD%B1%E3%82%AD%E3%83%83%E3%83%88&i=electronics&rh=n%3A3210981%2Cp_n_price_fma%3A401024011&s=review-rank&dc&page=1&language=en&crid=2MDDQ965PQRDN&qid=1609800358&rnid=401022011&sprefix=youtuber%2Caps%2C293&ref=sr_pg_2', 'https://www.amazon.co.jp/s?k=youtuber+%E6%92%AE%E5%BD%B1%E3%82%AD%E3%83%83%E3%83%88&i=electronics&rh=n%3A3210981%2Cp_n_price_fma%3A401024011&s=review-rank&dc&page=2&language=en&crid=2MDDQ965PQRDN&qid=1609800358&rnid=401022011&sprefix=youtuber%2Caps%2C293&ref=sr_pg_2', 'https://www.amazon.co.jp/s?k=youtuber+%E6%92%AE%E5%BD%B1%E3%82%AD%E3%83%83%E3%83%88&i=electronics&rh=n%3A3210981%2Cp_n_price_fma%3A401024011&s=review-rank&dc&page=3&language=en&crid=2MDDQ965PQRDN&qid=1609800358&rnid=401022011&sprefix=youtuber%2Caps%2C293&ref=sr_pg_2']\n"
     ]
    }
   ],
   "source": [
    "#get pagenation\n",
    "\n",
    "\n",
    "main_url= \"https://www.amazon.co.jp/s?k=youtuber+%E6%92%AE%E5%BD%B1%E3%82%AD%E3%83%83%E3%83%88&i=electronics&rh=n%3A3210981%2Cp_n_price_fma%3A401024011&s=review-rank&dc&page={}&language=en&crid=2MDDQ965PQRDN&qid=1609800358&rnid=401022011&sprefix=youtuber%2Caps%2C293&ref=sr_pg_2\"\n",
    "Url_Pages = []\n",
    "for i in range(3):\n",
    "    url = main_url.format(i+1)\n",
    "    Url_Pages.append(url)\n",
    "print(Url_Pages)"
   ]
  },
  {
   "cell_type": "code",
   "execution_count": null,
   "metadata": {},
   "outputs": [],
   "source": []
  }
 ],
 "metadata": {
  "kernelspec": {
   "display_name": "Python 3",
   "language": "python",
   "name": "python3"
  },
  "language_info": {
   "codemirror_mode": {
    "name": "ipython",
    "version": 3
   },
   "file_extension": ".py",
   "mimetype": "text/x-python",
   "name": "python",
   "nbconvert_exporter": "python",
   "pygments_lexer": "ipython3",
   "version": "3.7.4"
  }
 },
 "nbformat": 4,
 "nbformat_minor": 4
}
